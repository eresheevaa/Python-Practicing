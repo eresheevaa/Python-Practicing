{
 "cells": [
  {
   "cell_type": "markdown",
   "id": "16cf44ff",
   "metadata": {},
   "source": [
    "# Input() function is used to take user's input "
   ]
  },
  {
   "cell_type": "markdown",
   "id": "ae194031",
   "metadata": {},
   "source": [
    "# Function for adding numbers"
   ]
  },
  {
   "cell_type": "code",
   "execution_count": 1,
   "id": "5e7c04f2",
   "metadata": {},
   "outputs": [
    {
     "name": "stdout",
     "output_type": "stream",
     "text": [
      "Enter First number: 2\n",
      "Enter Second number: 5\n",
      "7\n"
     ]
    }
   ],
   "source": [
    "#Taking input for the 1st number:\n",
    "num1 = int(input(\"Enter First number: \"))\n",
    "#Taking input for second number\n",
    "num2 = int(input(\"Enter Second number: \"))\n",
    "#Adding num1 and num2 and storing them in sum\n",
    "sum = num1+num2\n",
    "#print sum to the screen\n",
    "print(sum)"
   ]
  },
  {
   "cell_type": "code",
   "execution_count": 2,
   "id": "1a3098ab",
   "metadata": {},
   "outputs": [
    {
     "name": "stdout",
     "output_type": "stream",
     "text": [
      "Enter First number: 369\n",
      "Enter Second number: 1275\n",
      "1644\n"
     ]
    }
   ],
   "source": [
    "num1 = int(input(\"Enter First number: \"))\n",
    "num2 = int(input(\"Enter Second number: \"))\n",
    "sum = num1+num2\n",
    "print(sum)"
   ]
  },
  {
   "cell_type": "markdown",
   "id": "6601ca45",
   "metadata": {},
   "source": [
    "Because the input() function is in a \"string\" form, we are mentioning INT numerical type.\n",
    "Therefore, we will need to convert it to numerical form.\n",
    "USe int() to convert to integer and float() to convert to floating point."
   ]
  },
  {
   "cell_type": "markdown",
   "id": "12da10c1",
   "metadata": {},
   "source": [
    "Keep in mind that the input function will wait for the user until a value is entered."
   ]
  },
  {
   "cell_type": "code",
   "execution_count": 11,
   "id": "41217524",
   "metadata": {},
   "outputs": [
    {
     "name": "stdout",
     "output_type": "stream",
     "text": [
      "5\n",
      "7\n",
      "12\n"
     ]
    }
   ],
   "source": [
    "a = int(input())\n",
    "b = int(input())\n",
    "x = a+b\n",
    "print(x)"
   ]
  },
  {
   "cell_type": "markdown",
   "id": "99e734db",
   "metadata": {},
   "source": [
    "Here we will mention integer type. Because without it Python will take it as a concatenation, not adding."
   ]
  },
  {
   "cell_type": "markdown",
   "id": "b509157c",
   "metadata": {},
   "source": [
    "# Multiplication function"
   ]
  },
  {
   "cell_type": "code",
   "execution_count": 8,
   "id": "449585b3",
   "metadata": {},
   "outputs": [
    {
     "name": "stdout",
     "output_type": "stream",
     "text": [
      "Enter values of a: 2\n",
      "Enter values of b: 5\n",
      "10\n"
     ]
    }
   ],
   "source": [
    "a = int(input(\"Enter values of a: \"))\n",
    "b = int(input(\"Enter values of b: \"))\n",
    "x = a*b\n",
    "print(x)"
   ]
  },
  {
   "cell_type": "markdown",
   "id": "fba385ad",
   "metadata": {},
   "source": [
    "# Making decisions"
   ]
  },
  {
   "cell_type": "markdown",
   "id": "0889d8a2",
   "metadata": {},
   "source": [
    "The decision making statements provided by Python are:\n",
    "1. IF = if condition is True or False.\n",
    "If condition is True the code block following the If statement is evaluated."
   ]
  },
  {
   "cell_type": "code",
   "execution_count": 12,
   "id": "0f0049a8",
   "metadata": {},
   "outputs": [
    {
     "name": "stdout",
     "output_type": "stream",
     "text": [
      "You successfully learned if statement.\n"
     ]
    }
   ],
   "source": [
    "#Single condition\n",
    "if 5 == 5:\n",
    "    print(\"You successfully learned if statement.\")"
   ]
  },
  {
   "cell_type": "code",
   "execution_count": 14,
   "id": "dab8a41e",
   "metadata": {},
   "outputs": [],
   "source": [
    "if 5>9:\n",
    "    print(\"Oops! Not this time.\")"
   ]
  },
  {
   "cell_type": "markdown",
   "id": "a18e5fa8",
   "metadata": {},
   "source": [
    "2. If - else\n",
    "Else statement is often used with If statement. \n",
    "If condition is False, the statement under Else statement will be evaluated."
   ]
  },
  {
   "cell_type": "code",
   "execution_count": 15,
   "id": "11eb0865",
   "metadata": {},
   "outputs": [
    {
     "name": "stdout",
     "output_type": "stream",
     "text": [
      "Wow! You also learned about else statement\n"
     ]
    }
   ],
   "source": [
    "if 5 == 3:\n",
    "    print(\"You successfully learned if statement\")\n",
    "else:\n",
    "    print(\"Wow! You also learned about else statement\")"
   ]
  },
  {
   "cell_type": "markdown",
   "id": "340fa83e",
   "metadata": {},
   "source": [
    "3. Elif statement\n",
    "IF we want to check multiple conditions we can use elif statements.\n",
    "Elif always comes after IF statement, it can't exist individually."
   ]
  },
  {
   "cell_type": "code",
   "execution_count": 18,
   "id": "a37d0c4b",
   "metadata": {},
   "outputs": [
    {
     "name": "stdout",
     "output_type": "stream",
     "text": [
      "That's something new!\n"
     ]
    }
   ],
   "source": [
    "if 5== 4:\n",
    "    print(\"An if statement. Oh!\")\n",
    "elif 4== 4:\n",
    "    print(\"That's something new!\")\n",
    "elif 4>= 9 :\n",
    "    print(\"Really?\")\n",
    "else:\n",
    "    print(\"Not this time\")"
   ]
  },
  {
   "cell_type": "markdown",
   "id": "71e0e260",
   "metadata": {},
   "source": [
    "If all conditions evaluate to False, then Else condition will be executed."
   ]
  },
  {
   "cell_type": "code",
   "execution_count": 19,
   "id": "827e79ad",
   "metadata": {},
   "outputs": [
    {
     "name": "stdout",
     "output_type": "stream",
     "text": [
      "Or this\n"
     ]
    }
   ],
   "source": [
    "if 5 <= 4:\n",
    "    print(\"This\")\n",
    "elif 5>= 5:\n",
    "    print(\"Or this\")\n",
    "else:\n",
    "    print(\"I don't want to\")"
   ]
  },
  {
   "cell_type": "markdown",
   "id": "6e829f4a",
   "metadata": {},
   "source": [
    "# Loops"
   ]
  },
  {
   "cell_type": "markdown",
   "id": "73ce4111",
   "metadata": {},
   "source": [
    "Loops allow us to execute a statement miltiple times. 2 types of Loops:\n",
    "1. For loop\n",
    "2. While loop"
   ]
  },
  {
   "cell_type": "markdown",
   "id": "02680941",
   "metadata": {},
   "source": [
    "For loop repeats over a given sequence.\n",
    "\n",
    "for variable in sequence:\n",
    "      statements\n",
    "      \n",
    "Where variable refers to a cunter variable. This varibale will update every time the loop is executed.\n",
    "\n",
    "And sequence contains the data over which looping needs to be done."
   ]
  },
  {
   "cell_type": "code",
   "execution_count": null,
   "id": "5a92cdcb",
   "metadata": {},
   "outputs": [],
   "source": []
  }
 ],
 "metadata": {
  "kernelspec": {
   "display_name": "Python 3",
   "language": "python",
   "name": "python3"
  },
  "language_info": {
   "codemirror_mode": {
    "name": "ipython",
    "version": 3
   },
   "file_extension": ".py",
   "mimetype": "text/x-python",
   "name": "python",
   "nbconvert_exporter": "python",
   "pygments_lexer": "ipython3",
   "version": "3.8.8"
  }
 },
 "nbformat": 4,
 "nbformat_minor": 5
}
