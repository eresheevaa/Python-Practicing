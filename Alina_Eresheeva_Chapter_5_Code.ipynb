{
  "nbformat": 4,
  "nbformat_minor": 0,
  "metadata": {
    "colab": {
      "name": "Alina Eresheeva Chapter 5 Code.ipynb",
      "provenance": [],
      "collapsed_sections": [],
      "authorship_tag": "ABX9TyMXukZ6nMRiWLHrfpEmAQr1",
      "include_colab_link": true
    },
    "kernelspec": {
      "name": "python3",
      "display_name": "Python 3"
    },
    "language_info": {
      "name": "python"
    }
  },
  "cells": [
    {
      "cell_type": "markdown",
      "metadata": {
        "id": "view-in-github",
        "colab_type": "text"
      },
      "source": [
        "<a href=\"https://colab.research.google.com/github/eresheevaa/Python-Practicing/blob/main/Alina_Eresheeva_Chapter_5_Code.ipynb\" target=\"_parent\"><img src=\"https://colab.research.google.com/assets/colab-badge.svg\" alt=\"Open In Colab\"/></a>"
      ]
    },
    {
      "cell_type": "code",
      "metadata": {
        "id": "6EB-MluHMt4n"
      },
      "source": [
        "cars = ['audi', 'bmw', 'subaru', 'toyota']"
      ],
      "execution_count": null,
      "outputs": []
    },
    {
      "cell_type": "code",
      "metadata": {
        "colab": {
          "base_uri": "https://localhost:8080/"
        },
        "id": "0Xd-XXNnuEkI",
        "outputId": "000b56f3-ad13-47c7-8608-e1886faa629d"
      },
      "source": [
        "for car in cars:\n",
        "   if car == 'bmw':\n",
        "     print(car.upper())\n",
        "else:\n",
        "  print(car.title())"
      ],
      "execution_count": null,
      "outputs": [
        {
          "output_type": "stream",
          "name": "stdout",
          "text": [
            "BMW\n",
            "Toyota\n"
          ]
        }
      ]
    },
    {
      "cell_type": "code",
      "metadata": {
        "colab": {
          "base_uri": "https://localhost:8080/"
        },
        "id": "62YZtm8JuPWo",
        "outputId": "1a0962db-38f0-4c41-fd88-9c8dbc3c083f"
      },
      "source": [
        "#Checking for equality\n",
        "car = 'bmw'\n",
        "car == 'bmw'"
      ],
      "execution_count": null,
      "outputs": [
        {
          "output_type": "execute_result",
          "data": {
            "text/plain": [
              "True"
            ]
          },
          "metadata": {},
          "execution_count": 6
        }
      ]
    },
    {
      "cell_type": "code",
      "metadata": {
        "colab": {
          "base_uri": "https://localhost:8080/"
        },
        "id": "FiuHf3gQuepZ",
        "outputId": "6d5f7185-70ed-468a-940b-f08c0fe981c8"
      },
      "source": [
        "car = 'audi'\n",
        "car == 'bmw'"
      ],
      "execution_count": null,
      "outputs": [
        {
          "output_type": "execute_result",
          "data": {
            "text/plain": [
              "False"
            ]
          },
          "metadata": {},
          "execution_count": 7
        }
      ]
    },
    {
      "cell_type": "code",
      "metadata": {
        "colab": {
          "base_uri": "https://localhost:8080/"
        },
        "id": "oN0_n0BFuidd",
        "outputId": "32600097-698f-4b75-b5f7-5c0a94390bf6"
      },
      "source": [
        "# Ignoring Case When Checking for Equality\n",
        "car = 'Audi'\n",
        "car == 'audi'"
      ],
      "execution_count": null,
      "outputs": [
        {
          "output_type": "execute_result",
          "data": {
            "text/plain": [
              "False"
            ]
          },
          "metadata": {},
          "execution_count": 8
        }
      ]
    },
    {
      "cell_type": "code",
      "metadata": {
        "colab": {
          "base_uri": "https://localhost:8080/"
        },
        "id": "X4iy2nflurOa",
        "outputId": "15c1ba9e-8911-4926-9686-a11f1437b2b5"
      },
      "source": [
        "car = 'Audi'\n",
        "car.lower() == 'audi'"
      ],
      "execution_count": null,
      "outputs": [
        {
          "output_type": "execute_result",
          "data": {
            "text/plain": [
              "True"
            ]
          },
          "metadata": {},
          "execution_count": 9
        }
      ]
    },
    {
      "cell_type": "code",
      "metadata": {
        "id": "3vu-Ema5uuii"
      },
      "source": [
        "# Checking for inequality\n",
        "requested_topping = 'mushrooms'"
      ],
      "execution_count": null,
      "outputs": []
    },
    {
      "cell_type": "code",
      "metadata": {
        "colab": {
          "base_uri": "https://localhost:8080/"
        },
        "id": "o9yqt71PvH2F",
        "outputId": "10267c16-276e-41c7-d073-582d9883176e"
      },
      "source": [
        "if requested_topping != 'anchovies': \n",
        "  print(\"Hold the anchovies!\")"
      ],
      "execution_count": null,
      "outputs": [
        {
          "output_type": "stream",
          "name": "stdout",
          "text": [
            "Hold the anchovies!\n"
          ]
        }
      ]
    },
    {
      "cell_type": "code",
      "metadata": {
        "colab": {
          "base_uri": "https://localhost:8080/"
        },
        "id": "oebapsMhvJIe",
        "outputId": "407dd625-3d75-42ae-ecf6-f0a33917d6b7"
      },
      "source": [
        "#Numerical comparisons\n",
        "age = 18\n",
        "age == 18"
      ],
      "execution_count": null,
      "outputs": [
        {
          "output_type": "execute_result",
          "data": {
            "text/plain": [
              "True"
            ]
          },
          "metadata": {},
          "execution_count": 16
        }
      ]
    },
    {
      "cell_type": "code",
      "metadata": {
        "colab": {
          "base_uri": "https://localhost:8080/"
        },
        "id": "s0tzySB0vU0D",
        "outputId": "f928c53f-162f-4713-ae6d-c07d15ff8bd4"
      },
      "source": [
        "answer = 17\n",
        "\n",
        "if answer != 42: \n",
        "  print(\"That is not the correct answer. Please try again!\")"
      ],
      "execution_count": null,
      "outputs": [
        {
          "output_type": "stream",
          "name": "stdout",
          "text": [
            "That is not the correct answer. Please try again!\n"
          ]
        }
      ]
    },
    {
      "cell_type": "code",
      "metadata": {
        "colab": {
          "base_uri": "https://localhost:8080/"
        },
        "id": "8UbbbXp7vYpv",
        "outputId": "62eefd5d-a69c-45b2-bf73-7eb9ab7e5240"
      },
      "source": [
        "#Using 'and' to Check Multiple Conditions\n",
        "age_0 = 22\n",
        "age_1 = 18\n",
        "age_0 >= 21 and age_1 >= 21"
      ],
      "execution_count": null,
      "outputs": [
        {
          "output_type": "execute_result",
          "data": {
            "text/plain": [
              "False"
            ]
          },
          "metadata": {},
          "execution_count": 19
        }
      ]
    },
    {
      "cell_type": "code",
      "metadata": {
        "colab": {
          "base_uri": "https://localhost:8080/"
        },
        "id": "GU837BcAvrc4",
        "outputId": "93556cce-ff1b-4593-eaff-3f84dafa895a"
      },
      "source": [
        "age_1 = 22\n",
        "age_0 >= 21 and age_1 >= 21"
      ],
      "execution_count": null,
      "outputs": [
        {
          "output_type": "execute_result",
          "data": {
            "text/plain": [
              "True"
            ]
          },
          "metadata": {},
          "execution_count": 20
        }
      ]
    },
    {
      "cell_type": "code",
      "metadata": {
        "colab": {
          "base_uri": "https://localhost:8080/"
        },
        "id": "mBTyB1rkvu7J",
        "outputId": "f1b5d08b-86df-47c1-831c-2886bd866663"
      },
      "source": [
        "#Using 'or' to Check Multiple Conditions\n",
        "age_0 = 22\n",
        "age_1 = 18\n",
        "age_0 >= 21 or age_1 >= 21"
      ],
      "execution_count": null,
      "outputs": [
        {
          "output_type": "execute_result",
          "data": {
            "text/plain": [
              "True"
            ]
          },
          "metadata": {},
          "execution_count": 21
        }
      ]
    },
    {
      "cell_type": "code",
      "metadata": {
        "colab": {
          "base_uri": "https://localhost:8080/"
        },
        "id": "PgtCNoMZv6Kx",
        "outputId": "1ac1ae73-466a-48d5-d5d9-37944b75833b"
      },
      "source": [
        "age_0 = 18\n",
        "age_0 >= 21 or age_1 >= 21"
      ],
      "execution_count": null,
      "outputs": [
        {
          "output_type": "execute_result",
          "data": {
            "text/plain": [
              "False"
            ]
          },
          "metadata": {},
          "execution_count": 22
        }
      ]
    },
    {
      "cell_type": "code",
      "metadata": {
        "colab": {
          "base_uri": "https://localhost:8080/"
        },
        "id": "UvCaUK2iv8x3",
        "outputId": "d4eee32a-5049-411d-fc1e-322f1e73a8da"
      },
      "source": [
        "#Checking Whether a Value Is in a List\n",
        "requested_toppings = ['mushrooms', 'onions', 'pineapple']\n",
        "'mushrooms' in requested_toppings"
      ],
      "execution_count": null,
      "outputs": [
        {
          "output_type": "execute_result",
          "data": {
            "text/plain": [
              "True"
            ]
          },
          "metadata": {},
          "execution_count": 23
        }
      ]
    },
    {
      "cell_type": "code",
      "metadata": {
        "colab": {
          "base_uri": "https://localhost:8080/"
        },
        "id": "NdCoZB-pwF3E",
        "outputId": "3a869ccb-b8c4-49d8-9cf2-3ba94e3e7de7"
      },
      "source": [
        "'pepperoni' in requested_toppings"
      ],
      "execution_count": null,
      "outputs": [
        {
          "output_type": "execute_result",
          "data": {
            "text/plain": [
              "False"
            ]
          },
          "metadata": {},
          "execution_count": 24
        }
      ]
    },
    {
      "cell_type": "code",
      "metadata": {
        "colab": {
          "base_uri": "https://localhost:8080/"
        },
        "id": "UvD3CNjLwImU",
        "outputId": "2b1bcffa-c606-4287-9609-55e80bacf61d"
      },
      "source": [
        "#Checking Whether a Value Is Not in a List\n",
        "banned_users = ['andrew', 'carolina', 'david']\n",
        "user = 'marie'\n",
        "\n",
        "if user not in banned_users: \n",
        "  print(user.title() + \", you can post a response if you wish.\")"
      ],
      "execution_count": null,
      "outputs": [
        {
          "output_type": "stream",
          "name": "stdout",
          "text": [
            "Marie, you can post a response if you wish.\n"
          ]
        }
      ]
    },
    {
      "cell_type": "code",
      "metadata": {
        "id": "JqLy93UawU9p"
      },
      "source": [
        "#Boolean Expressions\n",
        "\n",
        "game_active = True\n",
        "can_edit = False"
      ],
      "execution_count": null,
      "outputs": []
    },
    {
      "cell_type": "code",
      "metadata": {
        "colab": {
          "base_uri": "https://localhost:8080/"
        },
        "id": "7UkLOHCfwZP4",
        "outputId": "9655c006-60cb-4351-c4e9-2fdf4011479f"
      },
      "source": [
        "#Simple if Statements\n",
        "\n",
        "age = 19\n",
        "if age >= 18: \n",
        "  print(\"You are old enough to vote!\")"
      ],
      "execution_count": null,
      "outputs": [
        {
          "output_type": "stream",
          "name": "stdout",
          "text": [
            "You are old enough to vote!\n"
          ]
        }
      ]
    },
    {
      "cell_type": "code",
      "metadata": {
        "colab": {
          "base_uri": "https://localhost:8080/"
        },
        "id": "gXpM0uERwos3",
        "outputId": "750e5030-6738-42f0-a017-4c56857a6135"
      },
      "source": [
        "#if-else Statements\n",
        "\n",
        "age = 17\n",
        "if age >= 18:\n",
        "  print(\"You are old enough to vote!\")\n",
        "  print(\"Have you registered to vote yet?\")\n",
        "else:\n",
        "  print(\"Sorry, you are too young to vote.\")\n",
        "  print(\"Please register to vote as soon as you turn 18!\")"
      ],
      "execution_count": null,
      "outputs": [
        {
          "output_type": "stream",
          "name": "stdout",
          "text": [
            "Sorry, you are too young to vote.\n",
            "Please register to vote as soon as you turn 18!\n"
          ]
        }
      ]
    },
    {
      "cell_type": "code",
      "metadata": {
        "colab": {
          "base_uri": "https://localhost:8080/"
        },
        "id": "qgDjCoFLw0sU",
        "outputId": "aed90fbc-bfd1-4f1e-b80b-bd710cfa63a9"
      },
      "source": [
        "#The if-elif-else Chain\n",
        "age = 12\n",
        "if age < 4: \n",
        "  print(\"Your admission cost is $0.\")\n",
        "elif age < 18: \n",
        "  print(\"Your admission cost is $5.\")\n",
        "else: \n",
        "  print(\"Your admission cost is $10.\")"
      ],
      "execution_count": null,
      "outputs": [
        {
          "output_type": "stream",
          "name": "stdout",
          "text": [
            "Your admission cost is $5.\n"
          ]
        }
      ]
    },
    {
      "cell_type": "code",
      "metadata": {
        "colab": {
          "base_uri": "https://localhost:8080/"
        },
        "id": "39_D_zb3xF3P",
        "outputId": "a132749e-a399-4ee5-d411-5cd73079fb1e"
      },
      "source": [
        "#Using Multiple elif Blocks\n",
        "age = 12\n",
        "\n",
        "if age < 4: \n",
        "  price = 0\n",
        "elif age < 18: \n",
        "  price = 5\n",
        "elif age < 65: \n",
        "  price = 10\n",
        "else: \n",
        "  price = 5\n",
        "\n",
        "print(\"Your admission cost is $\" + str(price) + \".\")"
      ],
      "execution_count": null,
      "outputs": [
        {
          "output_type": "stream",
          "name": "stdout",
          "text": [
            "Your admission cost is $5.\n"
          ]
        }
      ]
    },
    {
      "cell_type": "code",
      "metadata": {
        "colab": {
          "base_uri": "https://localhost:8080/"
        },
        "id": "KHZs_aQnxkKS",
        "outputId": "5058388d-985a-498d-9361-a9454ea2a0b0"
      },
      "source": [
        "#Testing Multiple Conditions\n",
        "requested_toppings = ['mushrooms', 'extra cheese']\n",
        "\n",
        "if 'mushrooms' in requested_toppings: \n",
        "  print(\"Adding mushrooms.\")\n",
        "if 'pepperoni' in requested_toppings: \n",
        "  print(\"Adding pepperoni.\")\n",
        "if 'extra cheese' in requested_toppings: \n",
        "  print(\"Adding extra cheese.\")\n",
        "\n",
        "print(\"\\nFinished making your pizza!\")"
      ],
      "execution_count": null,
      "outputs": [
        {
          "output_type": "stream",
          "name": "stdout",
          "text": [
            "Adding mushrooms.\n",
            "Adding extra cheese.\n",
            "\n",
            "Finished making your pizza!\n"
          ]
        }
      ]
    },
    {
      "cell_type": "code",
      "metadata": {
        "colab": {
          "base_uri": "https://localhost:8080/"
        },
        "id": "K8VyHyyWx2Ni",
        "outputId": "0d1f266b-3b69-4a11-a102-2f974f11f7a2"
      },
      "source": [
        "#Using if Statements with Lists\n",
        "#Checking for Special Items\n",
        "\n",
        "requested_toppings = ['mushrooms', 'green peppers', 'extra cheese']\n",
        "\n",
        "for requested_topping in requested_toppings: \n",
        "  print(\"Adding \" + requested_topping + \".\")\n",
        "\n",
        "print(\"\\nFinished making your pizza!\")"
      ],
      "execution_count": null,
      "outputs": [
        {
          "output_type": "stream",
          "name": "stdout",
          "text": [
            "Adding mushrooms.\n",
            "Adding green peppers.\n",
            "Adding extra cheese.\n",
            "\n",
            "Finished making your pizza!\n"
          ]
        }
      ]
    },
    {
      "cell_type": "code",
      "metadata": {
        "colab": {
          "base_uri": "https://localhost:8080/"
        },
        "id": "ziuOYwPNyCcl",
        "outputId": "4ac8ea40-6059-406a-ab6f-4007efe3427a"
      },
      "source": [
        "requested_toppings = ['mushrooms', 'green peppers', 'extra cheese']\n",
        "\n",
        "for requested_topping in requested_toppings:\n",
        "  if requested_topping == 'green peppers':\n",
        "    print(\"Sorry, we are out of green peppers right now.\")\n",
        "  else:\n",
        "    print(\"Adding \" + requested_topping + \".\")\n",
        "\n",
        "print(\"\\nFinished making your pizza!\")"
      ],
      "execution_count": null,
      "outputs": [
        {
          "output_type": "stream",
          "name": "stdout",
          "text": [
            "Adding mushrooms.\n",
            "Sorry, we are out of green peppers right now.\n",
            "Adding extra cheese.\n",
            "\n",
            "Finished making your pizza!\n"
          ]
        }
      ]
    },
    {
      "cell_type": "code",
      "metadata": {
        "colab": {
          "base_uri": "https://localhost:8080/"
        },
        "id": "i9_xhVPPyRJY",
        "outputId": "366e548a-2b4c-4671-9d9f-1f1f37286fb4"
      },
      "source": [
        "#Checking That a List Is Not Empty\n",
        "requested_toppings = []\n",
        "\n",
        "if requested_toppings:\n",
        "  for requested_topping in requested_toppings: \n",
        "    print(\"Adding \" + requested_topping + \".\")\n",
        "  print(\"\\nFinished making your pizza!\")\n",
        "else: \n",
        "  print(\"Are you sure you want a plain pizza?\")"
      ],
      "execution_count": null,
      "outputs": [
        {
          "output_type": "stream",
          "name": "stdout",
          "text": [
            "Are you sure you want a plain pizza?\n"
          ]
        }
      ]
    },
    {
      "cell_type": "code",
      "metadata": {
        "colab": {
          "base_uri": "https://localhost:8080/"
        },
        "id": "w1nPpW1MyrJp",
        "outputId": "8ab65e99-54ed-4101-b07f-1a29a8becb4d"
      },
      "source": [
        "#Using Multiple Lists\n",
        "available_toppings = ['mushrooms', 'olives', 'green peppers',\n",
        "'pepperoni', 'pineapple', 'extra cheese']\n",
        "\n",
        "requested_toppings = ['mushrooms', 'french fries', 'extra cheese']\n",
        "\n",
        "for requested_topping in requested_toppings:\n",
        "  if requested_topping in available_toppings:\n",
        "    print(\"Adding \" + requested_topping + \".\")\n",
        "  else: \n",
        "    print(\"Sorry, we don't have \" + requested_topping + \".\")\n",
        "\n",
        "print(\"\\nFinished making your pizza!\")"
      ],
      "execution_count": null,
      "outputs": [
        {
          "output_type": "stream",
          "name": "stdout",
          "text": [
            "Adding mushrooms.\n",
            "Sorry, we don't have french fries.\n",
            "Adding extra cheese.\n",
            "\n",
            "Finished making your pizza!\n"
          ]
        }
      ]
    },
    {
      "cell_type": "code",
      "metadata": {
        "id": "BMWSiEXvy5rZ"
      },
      "source": [
        ""
      ],
      "execution_count": null,
      "outputs": []
    }
  ]
}