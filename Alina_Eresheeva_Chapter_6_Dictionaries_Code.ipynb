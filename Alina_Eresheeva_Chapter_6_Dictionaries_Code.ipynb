{
  "nbformat": 4,
  "nbformat_minor": 0,
  "metadata": {
    "colab": {
      "name": "Alina Eresheeva Chapter 6  Dictionaries Code.ipynb",
      "provenance": [],
      "collapsed_sections": [],
      "authorship_tag": "ABX9TyNwtnriBLV71b9ip6tSqPN7",
      "include_colab_link": true
    },
    "kernelspec": {
      "name": "python3",
      "display_name": "Python 3"
    },
    "language_info": {
      "name": "python"
    }
  },
  "cells": [
    {
      "cell_type": "markdown",
      "metadata": {
        "id": "view-in-github",
        "colab_type": "text"
      },
      "source": [
        "<a href=\"https://colab.research.google.com/github/eresheevaa/Python-Practicing/blob/main/Alina_Eresheeva_Chapter_6_Dictionaries_Code.ipynb\" target=\"_parent\"><img src=\"https://colab.research.google.com/assets/colab-badge.svg\" alt=\"Open In Colab\"/></a>"
      ]
    },
    {
      "cell_type": "code",
      "metadata": {
        "colab": {
          "base_uri": "https://localhost:8080/"
        },
        "id": "8YhnaiDqzJfu",
        "outputId": "95003684-8512-4b5d-ed69-d399dc083794"
      },
      "source": [
        "#A Simple Dictionary\n",
        "alien_0 = {'color': 'green', 'points': 5}\n",
        "\n",
        "print(alien_0['color'])\n",
        "print(alien_0['points'])"
      ],
      "execution_count": null,
      "outputs": [
        {
          "output_type": "stream",
          "name": "stdout",
          "text": [
            "green\n",
            "5\n"
          ]
        }
      ]
    },
    {
      "cell_type": "code",
      "metadata": {
        "colab": {
          "base_uri": "https://localhost:8080/"
        },
        "id": "OFTT7QBP0Eu2",
        "outputId": "59e6a120-87c4-4d00-cb08-d31f921ac889"
      },
      "source": [
        "alien_0 = {'color': 'green'}\n",
        "print(alien_0['color'])"
      ],
      "execution_count": null,
      "outputs": [
        {
          "output_type": "stream",
          "name": "stdout",
          "text": [
            "green\n"
          ]
        }
      ]
    },
    {
      "cell_type": "code",
      "metadata": {
        "colab": {
          "base_uri": "https://localhost:8080/"
        },
        "id": "82xMv1ey0O1E",
        "outputId": "f52b379e-0e1b-4fc1-9e60-b70d666ebd5b"
      },
      "source": [
        "alien_0 = {'color': 'green', 'points': 5}\n",
        "\n",
        "new_points = alien_0['points']\n",
        "print(\"You just earned \" + str(new_points) + \" points!\")"
      ],
      "execution_count": null,
      "outputs": [
        {
          "output_type": "stream",
          "name": "stdout",
          "text": [
            "You just earned 5 points!\n"
          ]
        }
      ]
    },
    {
      "cell_type": "code",
      "metadata": {
        "colab": {
          "base_uri": "https://localhost:8080/"
        },
        "id": "Y061ERlD0Vxq",
        "outputId": "e401a504-dd5b-469a-ac18-8a38d89a0719"
      },
      "source": [
        "#Adding New Key-Value Pairs\n",
        "\n",
        "alien_0 = {'color': 'green', 'points': 5}\n",
        "print(alien_0)\n",
        "\n",
        "alien_0['x_position'] = 0\n",
        "alien_0['y_position'] = 25\n",
        "print(alien_0)"
      ],
      "execution_count": null,
      "outputs": [
        {
          "output_type": "stream",
          "name": "stdout",
          "text": [
            "{'color': 'green', 'points': 5}\n",
            "{'color': 'green', 'points': 5, 'x_position': 0, 'y_position': 25}\n"
          ]
        }
      ]
    },
    {
      "cell_type": "code",
      "metadata": {
        "colab": {
          "base_uri": "https://localhost:8080/"
        },
        "id": "deDeLqSQ0djj",
        "outputId": "f763f98a-9a22-40f0-e02a-883303e07e2f"
      },
      "source": [
        "#Starting with an Empty Dictionary\n",
        "\n",
        "alien_0 = {}\n",
        "alien_0['color'] = 'green'\n",
        "alien_0['points'] = 5\n",
        "print(alien_0)"
      ],
      "execution_count": null,
      "outputs": [
        {
          "output_type": "stream",
          "name": "stdout",
          "text": [
            "{'color': 'green', 'points': 5}\n"
          ]
        }
      ]
    },
    {
      "cell_type": "code",
      "metadata": {
        "colab": {
          "base_uri": "https://localhost:8080/"
        },
        "id": "06OFCRSQ0kN2",
        "outputId": "ca64b35e-7737-4cf2-a300-9303316a9752"
      },
      "source": [
        "#Modifying Values in a Dictionary\n",
        "\n",
        "alien_0 = {'color': 'green'}\n",
        "print(\"The alien is \" + alien_0['color'] + \".\")\n",
        "\n",
        "alien_0['color'] = 'yellow'\n",
        "print(\"The alien is now \" + alien_0['color'] + \".\")"
      ],
      "execution_count": null,
      "outputs": [
        {
          "output_type": "stream",
          "name": "stdout",
          "text": [
            "The alien is green.\n",
            "The alien is now yellow.\n"
          ]
        }
      ]
    },
    {
      "cell_type": "code",
      "metadata": {
        "colab": {
          "base_uri": "https://localhost:8080/"
        },
        "id": "KGF8_Wrm0pF2",
        "outputId": "7bb4bee3-4711-48fb-835e-004383b56dd7"
      },
      "source": [
        "alien_0 = {'x_position': 0, 'y_position': 25, 'speed': 'medium'}\n",
        "print(\"Original x-position: \" + str(alien_0['x_position']))\n",
        "\n",
        "# Move the alien to the right.\n",
        "# Determine how far to move the alien based on its current speed.\n",
        "if alien_0['speed'] == 'slow':\n",
        "  x_increment = 1\n",
        "elif alien_0['speed'] == 'medium':\n",
        "  x_increment = 2\n",
        "else:\n",
        "  # This must be a fast alien. \n",
        "  x_increment = 3\n",
        "\n",
        "\n",
        "# The new position is the old position plus the increment.\n",
        "alien_0['x_position'] = alien_0['x_position'] + x_increment\n",
        "print(\"New x-position: \" + str(alien_0['x_position']))"
      ],
      "execution_count": null,
      "outputs": [
        {
          "output_type": "stream",
          "name": "stdout",
          "text": [
            "Original x-position: 0\n",
            "New x-position: 2\n"
          ]
        }
      ]
    },
    {
      "cell_type": "code",
      "metadata": {
        "colab": {
          "base_uri": "https://localhost:8080/"
        },
        "id": "QAUpfeR41Ay8",
        "outputId": "fe09c74d-7251-47cb-98cd-e3f5ba72759c"
      },
      "source": [
        "#Removing Key-Value Pairs\n",
        "\n",
        "alien_0 = {'color': 'green', 'points': 5}\n",
        "print(alien_0)\n",
        "del alien_0['points']\n",
        "print(alien_0)"
      ],
      "execution_count": null,
      "outputs": [
        {
          "output_type": "stream",
          "name": "stdout",
          "text": [
            "{'color': 'green', 'points': 5}\n",
            "{'color': 'green'}\n"
          ]
        }
      ]
    },
    {
      "cell_type": "code",
      "metadata": {
        "colab": {
          "base_uri": "https://localhost:8080/"
        },
        "id": "dQfBfGrr1J1d",
        "outputId": "852d9885-afef-4247-8be8-2f151792d76b"
      },
      "source": [
        "#A Dictionary of Similar Objects\n",
        "\n",
        "favorite_languages = {\n",
        "'jen': 'python',\n",
        "'sarah': 'c',\n",
        "'edward': 'ruby',\n",
        "'phil':'python',\n",
        "}\n",
        "\n",
        "print(\"Sarah's favorite language is \" +\n",
        "favorite_languages['sarah'].title() +\n",
        " \".\")"
      ],
      "execution_count": null,
      "outputs": [
        {
          "output_type": "stream",
          "name": "stdout",
          "text": [
            "Sarah's favorite language is C.\n"
          ]
        }
      ]
    },
    {
      "cell_type": "code",
      "metadata": {
        "colab": {
          "base_uri": "https://localhost:8080/"
        },
        "id": "1E4hWdwe1KSG",
        "outputId": "0a5bebae-ac5b-45fa-f2d4-2ae54f066331"
      },
      "source": [
        "#Looping Through a Dictionary\n",
        "#Looping Through All Key-Value Pairs\n",
        "\n",
        "user_0 = {\n",
        "'username': 'efermi',\n",
        "'first': 'enrico',\n",
        "'last': 'fermi',\n",
        "}\n",
        "\n",
        "for key, value in user_0.items():\n",
        "  print(\"\\nKey: \" + key)\n",
        "  print(\"Value: \" + value)"
      ],
      "execution_count": null,
      "outputs": [
        {
          "output_type": "stream",
          "name": "stdout",
          "text": [
            "\n",
            "Key: username\n",
            "Value: efermi\n",
            "\n",
            "Key: first\n",
            "Value: enrico\n",
            "\n",
            "Key: last\n",
            "Value: fermi\n"
          ]
        }
      ]
    },
    {
      "cell_type": "code",
      "metadata": {
        "colab": {
          "base_uri": "https://localhost:8080/"
        },
        "id": "VMJLY61V1mIT",
        "outputId": "70521002-d67e-470f-a326-7dd645b1decb"
      },
      "source": [
        "favorite_languages = {\n",
        "'jen': 'python',\n",
        "'sarah': 'c',\n",
        "'edward': 'ruby',\n",
        "'phil': 'python',\n",
        "}\n",
        "\n",
        "for name, language in favorite_languages.items():\n",
        "  print(name.title() + \"'s favorite language is \" +\n",
        "language.title() + \".\")"
      ],
      "execution_count": null,
      "outputs": [
        {
          "output_type": "stream",
          "name": "stdout",
          "text": [
            "Jen's favorite language is Python.\n",
            "Sarah's favorite language is C.\n",
            "Edward's favorite language is Ruby.\n",
            "Phil's favorite language is Python.\n"
          ]
        }
      ]
    },
    {
      "cell_type": "code",
      "metadata": {
        "colab": {
          "base_uri": "https://localhost:8080/"
        },
        "id": "Bq1J88Rm1vmd",
        "outputId": "55505a76-8c80-4dad-f48a-39c8db7bc890"
      },
      "source": [
        "#Looping Through All the Keys in a Dictionary\n",
        "\n",
        "favorite_languages = {\n",
        "'jen': 'python',\n",
        "'sarah': 'c',\n",
        "'edward': 'ruby',\n",
        "'phil': 'python',\n",
        "}\n",
        "\n",
        "for name in favorite_languages.keys(): \n",
        "  print(name.title())"
      ],
      "execution_count": null,
      "outputs": [
        {
          "output_type": "stream",
          "name": "stdout",
          "text": [
            "Jen\n",
            "Sarah\n",
            "Edward\n",
            "Phil\n"
          ]
        }
      ]
    },
    {
      "cell_type": "code",
      "metadata": {
        "colab": {
          "base_uri": "https://localhost:8080/"
        },
        "id": "FYdgbUc61-3V",
        "outputId": "193d1e41-c6c6-40b7-ab44-d4f6fd5865f4"
      },
      "source": [
        "favorite_languages = {\n",
        "'jen': 'python',\n",
        "'sarah': 'c',\n",
        "'edward': 'ruby',\n",
        "'phil': 'python',\n",
        "}\n",
        "\n",
        "friends = ['phil', 'sarah']\n",
        "for name in favorite_languages.keys(): \n",
        "  print(name.title())\n",
        "\n",
        "  if name in friends:\n",
        "    print(\" Hi \" + name.title() +\n",
        "\", I see your favorite language is \" +\n",
        " favorite_languages[name].title() + \"!\")"
      ],
      "execution_count": null,
      "outputs": [
        {
          "output_type": "stream",
          "name": "stdout",
          "text": [
            "Jen\n",
            "Sarah\n",
            " Hi Sarah, I see your favorite language is C!\n",
            "Edward\n",
            "Phil\n",
            " Hi Phil, I see your favorite language is Python!\n"
          ]
        }
      ]
    },
    {
      "cell_type": "code",
      "metadata": {
        "colab": {
          "base_uri": "https://localhost:8080/"
        },
        "id": "L_DZtRu22L_7",
        "outputId": "7516f115-3c32-42ea-b0c7-4aed1ca16a4b"
      },
      "source": [
        "favorite_languages = {\n",
        "'jen': 'python',\n",
        "'sarah': 'c',\n",
        "'edward': 'ruby',\n",
        "'phil': 'python',\n",
        "}\n",
        "\n",
        "if 'erin' not in favorite_languages.keys(): \n",
        "  print(\"Erin, please take our poll!\")"
      ],
      "execution_count": null,
      "outputs": [
        {
          "output_type": "stream",
          "name": "stdout",
          "text": [
            "Erin, please take our poll!\n"
          ]
        }
      ]
    },
    {
      "cell_type": "code",
      "metadata": {
        "colab": {
          "base_uri": "https://localhost:8080/"
        },
        "id": "LfNfAoik2RIp",
        "outputId": "dc2f0e03-f6ac-42c3-d6d2-ca530e961ff7"
      },
      "source": [
        "#Looping Through a Dictionary’s Keys in Order\n",
        "\n",
        "favorite_languages = {\n",
        "'jen': 'python',\n",
        "'sarah': 'c',\n",
        "'edward': 'ruby',\n",
        "'phil': 'python',\n",
        "}\n",
        "\n",
        "for name in sorted(favorite_languages.keys()): \n",
        "  print(name.title() + \", thank you for taking the poll.\")"
      ],
      "execution_count": null,
      "outputs": [
        {
          "output_type": "stream",
          "name": "stdout",
          "text": [
            "Edward, thank you for taking the poll.\n",
            "Jen, thank you for taking the poll.\n",
            "Phil, thank you for taking the poll.\n",
            "Sarah, thank you for taking the poll.\n"
          ]
        }
      ]
    },
    {
      "cell_type": "code",
      "metadata": {
        "colab": {
          "base_uri": "https://localhost:8080/"
        },
        "id": "0lbuwkO92YLz",
        "outputId": "652e1947-389e-4f7d-ecd7-2baf980acf97"
      },
      "source": [
        "#Looping Through All Values in a Dictionary\n",
        "\n",
        "favorite_languages = {\n",
        "'jen': 'python',\n",
        "'sarah': 'c',\n",
        "'edward': 'ruby',\n",
        "'phil': 'python',\n",
        "}\n",
        "\n",
        "print(\"The following languages have been mentioned:\")\n",
        "for language in favorite_languages.values(): \n",
        "  print(language.title())"
      ],
      "execution_count": null,
      "outputs": [
        {
          "output_type": "stream",
          "name": "stdout",
          "text": [
            "The following languages have been mentioned:\n",
            "Python\n",
            "C\n",
            "Ruby\n",
            "Python\n"
          ]
        }
      ]
    },
    {
      "cell_type": "code",
      "metadata": {
        "colab": {
          "base_uri": "https://localhost:8080/"
        },
        "id": "Be7mPQMg2gNI",
        "outputId": "ca094d05-0ae0-4721-9a0b-6d267a8a6843"
      },
      "source": [
        "favorite_languages = {\n",
        "'jen': 'python',\n",
        "'sarah': 'c',\n",
        "'edward': 'ruby',\n",
        "'phil': 'python',\n",
        "}\n",
        "\n",
        "print(\"The following languages have been mentioned:\")\n",
        "for language in set(favorite_languages.values()): \n",
        "  print(language.title())"
      ],
      "execution_count": null,
      "outputs": [
        {
          "output_type": "stream",
          "name": "stdout",
          "text": [
            "The following languages have been mentioned:\n",
            "Ruby\n",
            "Python\n",
            "C\n"
          ]
        }
      ]
    },
    {
      "cell_type": "code",
      "metadata": {
        "colab": {
          "base_uri": "https://localhost:8080/"
        },
        "id": "q_SSlIqF2snq",
        "outputId": "3dbd041c-e4b6-403a-debe-a45a496bc53e"
      },
      "source": [
        "#Nesting\n",
        "#A List of Dictionaries\n",
        "\n",
        "alien_0 = {'color': 'green', 'points': 5}\n",
        "alien_1 = {'color': 'yellow', 'points': 10}\n",
        "alien_2 = {'color': 'red', 'points': 15}\n",
        "\n",
        "aliens = [alien_0, alien_1, alien_2]\n",
        "\n",
        "for alien in aliens: \n",
        "  print(alien)"
      ],
      "execution_count": null,
      "outputs": [
        {
          "output_type": "stream",
          "name": "stdout",
          "text": [
            "{'color': 'green', 'points': 5}\n",
            "{'color': 'yellow', 'points': 10}\n",
            "{'color': 'red', 'points': 15}\n"
          ]
        }
      ]
    },
    {
      "cell_type": "code",
      "metadata": {
        "colab": {
          "base_uri": "https://localhost:8080/"
        },
        "id": "vI5ZcPbA23k4",
        "outputId": "07522c48-6fe5-43f6-c5f4-96d361862fcc"
      },
      "source": [
        "# Make an empty list for storing aliens.\n",
        "aliens = []\n",
        "\n",
        "# Make 30 green aliens.\n",
        "for alien_number in range(30):\n",
        "  new_alien = {'color': 'green', 'points': 5, 'speed': 'slow'}\n",
        "  aliens.append(new_alien)\n",
        "\n",
        "# Show the first 5 aliens:\n",
        "for alien in aliens[:5]: \n",
        "  print(alien)\n",
        "  print(\"...\")\n",
        "\n",
        "# Show how many aliens have been created.\n",
        "print(\"Total number of aliens: \" + str(len(aliens)))"
      ],
      "execution_count": null,
      "outputs": [
        {
          "output_type": "stream",
          "name": "stdout",
          "text": [
            "{'color': 'green', 'points': 5, 'speed': 'slow'}\n",
            "...\n",
            "{'color': 'green', 'points': 5, 'speed': 'slow'}\n",
            "...\n",
            "{'color': 'green', 'points': 5, 'speed': 'slow'}\n",
            "...\n",
            "{'color': 'green', 'points': 5, 'speed': 'slow'}\n",
            "...\n",
            "{'color': 'green', 'points': 5, 'speed': 'slow'}\n",
            "...\n",
            "Total number of aliens: 30\n"
          ]
        }
      ]
    },
    {
      "cell_type": "code",
      "metadata": {
        "colab": {
          "base_uri": "https://localhost:8080/"
        },
        "id": "kQYyOy2g3Ii_",
        "outputId": "21fa315d-4518-4d4a-cb9a-fa790f77ca06"
      },
      "source": [
        "# Make an empty list for storing aliens.\n",
        "aliens = []\n",
        "\n",
        "# Make 30 green aliens.\n",
        "for alien_number in range(30):\n",
        "  new_alien = {'color': 'green', 'points': 5, 'speed': 'slow'}\n",
        "  aliens.append(new_alien)\n",
        "\n",
        "for alien in aliens[0:3]:\n",
        "  if alien['color'] == 'green':\n",
        "    alien['color'] = 'yellow'\n",
        "    alien['speed'] = 'medium'\n",
        "    alien['points'] = 10\n",
        "\n",
        "# Show the first 5 aliens:\n",
        "for alien in aliens[:5]: \n",
        "  print(alien)\n",
        "  print(\"...\")"
      ],
      "execution_count": null,
      "outputs": [
        {
          "output_type": "stream",
          "name": "stdout",
          "text": [
            "{'color': 'yellow', 'points': 10, 'speed': 'medium'}\n",
            "...\n",
            "{'color': 'yellow', 'points': 10, 'speed': 'medium'}\n",
            "...\n",
            "{'color': 'yellow', 'points': 10, 'speed': 'medium'}\n",
            "...\n",
            "{'color': 'green', 'points': 5, 'speed': 'slow'}\n",
            "...\n",
            "{'color': 'green', 'points': 5, 'speed': 'slow'}\n",
            "...\n"
          ]
        }
      ]
    },
    {
      "cell_type": "code",
      "metadata": {
        "colab": {
          "base_uri": "https://localhost:8080/"
        },
        "id": "DJ27kCpE3uIr",
        "outputId": "a8013840-baac-43e8-bb0b-b7c46de02dbf"
      },
      "source": [
        "#A List in a Dictionary\n",
        "\n",
        "# Store information about a pizza being ordered.\n",
        "pizza = {\n",
        "'crust': 'thick',\n",
        "'toppings': ['mushrooms', 'extra cheese'],\n",
        "}\n",
        "\n",
        "# Summarize the order.\n",
        "print(\"You ordered a \" + pizza['crust'] + \"-crust pizza \" +\n",
        "\"with the following toppings:\")\n",
        "for topping in pizza['toppings']:\n",
        "  print(\"\\t\" + topping)"
      ],
      "execution_count": null,
      "outputs": [
        {
          "output_type": "stream",
          "name": "stdout",
          "text": [
            "You ordered a thick-crust pizza with the following toppings:\n",
            "\tmushrooms\n",
            "\textra cheese\n"
          ]
        }
      ]
    },
    {
      "cell_type": "code",
      "metadata": {
        "colab": {
          "base_uri": "https://localhost:8080/"
        },
        "id": "eCr3EusR34-0",
        "outputId": "7da60313-0ea6-42cf-9e57-f25d7b5c61cc"
      },
      "source": [
        "favorite_languages = {\n",
        "'jen': ['python', 'ruby'],\n",
        "'sarah': ['c'],\n",
        "'edward': ['ruby', 'go'],\n",
        "'phil': ['python', 'haskell'],\n",
        "}\n",
        "\n",
        "for name, languages in favorite_languages.items():\n",
        "  print(\"\\n\" + name.title() + \"'s favorite languages are:\")\n",
        "for language in languages:\n",
        "  print(\"\\t\" + language.title())"
      ],
      "execution_count": null,
      "outputs": [
        {
          "output_type": "stream",
          "name": "stdout",
          "text": [
            "\n",
            "Jen's favorite languages are:\n",
            "\n",
            "Sarah's favorite languages are:\n",
            "\n",
            "Edward's favorite languages are:\n",
            "\n",
            "Phil's favorite languages are:\n",
            "\tPython\n",
            "\tHaskell\n"
          ]
        }
      ]
    },
    {
      "cell_type": "code",
      "metadata": {
        "colab": {
          "base_uri": "https://localhost:8080/"
        },
        "id": "Dl9ZwXMU3_Jp",
        "outputId": "a08e1f48-54ed-4f0a-c17a-d7048f468924"
      },
      "source": [
        "#A Dictionary in a Dictionary\n",
        "\n",
        "users = {\n",
        "'aeinstein': {\n",
        "'first': 'albert',\n",
        "'last': 'einstein',\n",
        "'location': 'princeton',\n",
        "},\n",
        "'mcurie': {\n",
        "'first': 'marie',\n",
        "'last': 'curie',\n",
        "'location': 'paris',\n",
        "},\n",
        "}\n",
        "\n",
        "for username, user_info in users.items():\n",
        "  print(\"\\nUsername: \" + username)\n",
        "  full_name = user_info['first'] + \" \" + user_info['last']\n",
        "  location = user_info['location']\n",
        "\n",
        "  print(\"\\tFull name: \" + full_name.title())\n",
        "  print(\"\\tLocation: \" + location.title())"
      ],
      "execution_count": null,
      "outputs": [
        {
          "output_type": "stream",
          "name": "stdout",
          "text": [
            "\n",
            "Username: aeinstein\n",
            "\tFull name: Albert Einstein\n",
            "\tLocation: Princeton\n",
            "\n",
            "Username: mcurie\n",
            "\tFull name: Marie Curie\n",
            "\tLocation: Paris\n"
          ]
        }
      ]
    },
    {
      "cell_type": "code",
      "metadata": {
        "id": "ZvCpvQ5G4MgU"
      },
      "source": [
        ""
      ],
      "execution_count": null,
      "outputs": []
    }
  ]
}