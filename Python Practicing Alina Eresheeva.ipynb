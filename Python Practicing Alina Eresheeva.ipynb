{
 "cells": [
  {
   "cell_type": "code",
   "execution_count": 61,
   "id": "63a85712",
   "metadata": {},
   "outputs": [
    {
     "name": "stdout",
     "output_type": "stream",
     "text": [
      "1\n",
      "2\n",
      "3\n",
      "4\n",
      "5\n",
      "6\n",
      "7\n",
      "8\n",
      "9\n",
      "10\n"
     ]
    }
   ],
   "source": [
    "#Task 1: Print First 10 natural numbers using while loop\n",
    "x = 1\n",
    "while x<=10:\n",
    "    print(x)\n",
    "    x = x+1"
   ]
  },
  {
   "cell_type": "code",
   "execution_count": 62,
   "id": "b3bb006c",
   "metadata": {},
   "outputs": [
    {
     "name": "stdout",
     "output_type": "stream",
     "text": [
      "1 , 2 , 3 , 4 , 5 , 6 , 7 , 8 , 9 , 10 , "
     ]
    }
   ],
   "source": [
    "x = 1\n",
    "while x<=10:\n",
    "    print(x, end=\" , \")\n",
    "    x = x+1"
   ]
  },
  {
   "cell_type": "code",
   "execution_count": 58,
   "id": "aba8f95c",
   "metadata": {},
   "outputs": [
    {
     "name": "stdout",
     "output_type": "stream",
     "text": [
      "Enter the number: 5\n",
      "Multiplication number of 5\n",
      "5 x 1 = 5\n",
      "5 x 2 = 10\n",
      "5 x 3 = 15\n",
      "5 x 4 = 20\n",
      "5 x 5 = 25\n",
      "5 x 6 = 30\n",
      "5 x 7 = 35\n",
      "5 x 8 = 40\n",
      "5 x 9 = 45\n",
      "5 x 10 = 50\n"
     ]
    }
   ],
   "source": [
    "# Task 2: Write a program to print multiplication table of a given number\n",
    "num = int(input(\"Enter the number: \"))\n",
    "print(\"Multiplication number of\", num)\n",
    "\n",
    "for a in range(1,11):\n",
    "    print(num, \"x\", a, \"=\", num*a )"
   ]
  },
  {
   "cell_type": "code",
   "execution_count": 11,
   "id": "fe70c03b",
   "metadata": {},
   "outputs": [
    {
     "name": "stdout",
     "output_type": "stream",
     "text": [
      "10\n",
      "20\n",
      "30\n",
      "banana\n",
      "apple\n",
      "Alina\n"
     ]
    }
   ],
   "source": [
    "# Task 3: Write a for loop so that every item in the list is printed\n",
    "my_list = [10,20,30, \"banana\", \"apple\", \"Alina\"]\n",
    "\n",
    "for a in my_list:\n",
    "    print(a)"
   ]
  },
  {
   "cell_type": "code",
   "execution_count": 15,
   "id": "2f706847",
   "metadata": {},
   "outputs": [
    {
     "name": "stdout",
     "output_type": "stream",
     "text": [
      "H\n",
      "e\n",
      "l\n",
      "l\n",
      "o\n",
      " \n",
      "A\n",
      "l\n",
      "i\n",
      "n\n",
      "a\n",
      "!\n"
     ]
    }
   ],
   "source": [
    "#Task 4: Write a for loop that iterates through a string and prints every letter\n",
    "name = \"Hello Alina!\"\n",
    "\n",
    "for b in name:\n",
    "    print(b)"
   ]
  },
  {
   "cell_type": "code",
   "execution_count": 16,
   "id": "9491dee2",
   "metadata": {},
   "outputs": [
    {
     "name": "stdout",
     "output_type": "stream",
     "text": [
      "{'fruit': 'apple', 'city': 'Bishkek', 'country': 'Kyrgyzstan'}\n"
     ]
    }
   ],
   "source": [
    "# Task 5: Constructing a Dictionary\n",
    "my_dict = {'fruit':'apple', 'city':'Bishkek', 'country':'Kyrgyzstan'}\n",
    "print(my_dict)"
   ]
  },
  {
   "cell_type": "code",
   "execution_count": 20,
   "id": "7ff74f96",
   "metadata": {},
   "outputs": [
    {
     "name": "stdout",
     "output_type": "stream",
     "text": [
      "dict_keys(['fruit', 'city', 'country'])\n",
      "dict_values(['apple', 'Bishkek', 'Kyrgyzstan'])\n",
      "dict_items([('fruit', 'apple'), ('city', 'Bishkek'), ('country', 'Kyrgyzstan')])\n",
      "{'fruit': 'apple', 'city': 'Bishkek', 'country': 'Kyrgyzstan'}\n"
     ]
    }
   ],
   "source": [
    "# Task 6: Accessing objects from a dictionary\n",
    "print(my_dict.keys())\n",
    "\n",
    "print(my_dict.values())\n",
    "\n",
    "print(my_dict.items())\n",
    "\n",
    "print(my_dict)"
   ]
  },
  {
   "cell_type": "code",
   "execution_count": 54,
   "id": "512be48d",
   "metadata": {},
   "outputs": [
    {
     "name": "stdout",
     "output_type": "stream",
     "text": [
      "{'fruit': 'apple', 'city': 'Bishkek', 'country': 'Kyrgyzstan', 'continent': {'planet': 'Earth'}}\n"
     ]
    }
   ],
   "source": [
    "#Task 7: Nesting Dictionaries\n",
    "my_dict = {'fruit':'apple', 'city':'Bishkek', 'country':'Kyrgyzstan',\"continent\":{\"planet\":\"Earth\"}}\n",
    "print(my_dict)"
   ]
  },
  {
   "cell_type": "code",
   "execution_count": 55,
   "id": "b3489432",
   "metadata": {},
   "outputs": [
    {
     "name": "stdout",
     "output_type": "stream",
     "text": [
      "{'fruit': 'apple', 'country': 'Kyrgyzstan', 'continent': {'planet': 'Earth'}}\n"
     ]
    }
   ],
   "source": [
    "#Task 8: Basic Dictionary Methods\n",
    "my_dict.pop('city')\n",
    "print(my_dict)"
   ]
  },
  {
   "cell_type": "code",
   "execution_count": 57,
   "id": "eaa19291",
   "metadata": {},
   "outputs": [
    {
     "name": "stdout",
     "output_type": "stream",
     "text": [
      "{'fruit': 'apple', 'country': 'Kyrgyzstan', 'continent': {'planet': 'Earth'}, 'Python': {'topic': 'Nested dictionaries'}}\n"
     ]
    }
   ],
   "source": [
    "my_dict.update({\"Python\":{\"topic\":\"Nested dictionaries\"}})\n",
    "print(my_dict)"
   ]
  },
  {
   "cell_type": "code",
   "execution_count": 45,
   "id": "8c657f1e",
   "metadata": {},
   "outputs": [
    {
     "name": "stdout",
     "output_type": "stream",
     "text": [
      "{}\n"
     ]
    }
   ],
   "source": [
    "#Task 9:  create a dictionary - Empty\n",
    "\n",
    "new_dict = {}\n",
    "print(new_dict)"
   ]
  },
  {
   "cell_type": "code",
   "execution_count": 46,
   "id": "c2c9f0c4",
   "metadata": {},
   "outputs": [
    {
     "name": "stdout",
     "output_type": "stream",
     "text": [
      "{'k1': 10, 'k2': 20, 'k3': 30}\n"
     ]
    }
   ],
   "source": [
    "# Add 3 key , value pairs\n",
    "\n",
    "new_dict = {'k1':10, 'k2':20, 'k3':30}\n",
    "print(new_dict)"
   ]
  },
  {
   "cell_type": "code",
   "execution_count": 48,
   "id": "9c5ec2a4",
   "metadata": {},
   "outputs": [
    {
     "data": {
      "text/plain": [
       "dict_keys(['k1', 'k2', 'k3'])"
      ]
     },
     "execution_count": 48,
     "metadata": {},
     "output_type": "execute_result"
    }
   ],
   "source": [
    "# List all the keys\n",
    "new_dict.keys()"
   ]
  },
  {
   "cell_type": "code",
   "execution_count": 49,
   "id": "e40f560a",
   "metadata": {},
   "outputs": [
    {
     "data": {
      "text/plain": [
       "dict_values([10, 20, 30])"
      ]
     },
     "execution_count": 49,
     "metadata": {},
     "output_type": "execute_result"
    }
   ],
   "source": [
    "# list all the values\n",
    "new_dict.values()"
   ]
  },
  {
   "cell_type": "code",
   "execution_count": 50,
   "id": "ab4e789d",
   "metadata": {},
   "outputs": [
    {
     "name": "stdout",
     "output_type": "stream",
     "text": [
      "{'k1': 10, 'k2': 100, 'k3': 30}\n"
     ]
    }
   ],
   "source": [
    "# Modify the second key and change it to 100\n",
    "\n",
    "new_dict['k2'] = 100\n",
    "print(new_dict)"
   ]
  }
 ],
 "metadata": {
  "kernelspec": {
   "display_name": "Python 3",
   "language": "python",
   "name": "python3"
  },
  "language_info": {
   "codemirror_mode": {
    "name": "ipython",
    "version": 3
   },
   "file_extension": ".py",
   "mimetype": "text/x-python",
   "name": "python",
   "nbconvert_exporter": "python",
   "pygments_lexer": "ipython3",
   "version": "3.8.8"
  }
 },
 "nbformat": 4,
 "nbformat_minor": 5
}
